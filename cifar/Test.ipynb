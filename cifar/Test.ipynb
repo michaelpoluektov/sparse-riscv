{
 "cells": [
  {
   "cell_type": "code",
   "execution_count": 1,
   "id": "f51b01d3",
   "metadata": {},
   "outputs": [
    {
     "name": "stdout",
     "output_type": "stream",
     "text": [
      "INFO:tensorflow:Mixed precision compatibility check (mixed_float16): OK\n",
      "Your GPU will likely run quickly with dtype policy mixed_float16 as it has compute capability of at least 7.0. Your GPU: NVIDIA GeForce RTX 3060 Laptop GPU, compute capability 8.6\n"
     ]
    }
   ],
   "source": [
    "import os\n",
    "\n",
    "os.environ[\"TF_CPP_MIN_LOG_LEVEL\"] = \"3\"\n",
    "import tensorflow as tf\n",
    "import numpy as np\n",
    "import matplotlib.pyplot as plt\n",
    "from model import get_model\n",
    "from dataset import get_dataset\n",
    "import tensorflow_probability as tfp\n",
    "from tqdm.notebook import tqdm\n",
    "from tensorflow.keras import mixed_precision\n",
    "from tensorflow.keras.layers import Layer, Conv2D\n",
    "from sparse_conv2d import SparseConv2D\n",
    "\n",
    "mixed_precision.set_global_policy(\"mixed_float16\")\n",
    "from tensorflow.keras.utils import register_keras_serializable"
   ]
  },
  {
   "cell_type": "code",
   "execution_count": 2,
   "id": "c3b4553b",
   "metadata": {},
   "outputs": [
    {
     "data": {
      "text/plain": [
       "[PhysicalDevice(name='/physical_device:GPU:0', device_type='GPU')]"
      ]
     },
     "execution_count": 2,
     "metadata": {},
     "output_type": "execute_result"
    }
   ],
   "source": [
    "tf.config.list_physical_devices(\"GPU\")"
   ]
  },
  {
   "cell_type": "code",
   "execution_count": 3,
   "id": "69cca625",
   "metadata": {
    "scrolled": true
   },
   "outputs": [
    {
     "name": "stdout",
     "output_type": "stream",
     "text": [
      "WARNING:tensorflow:From /home/michael/mambaforge/envs/tf/lib/python3.10/site-packages/tensorflow/python/autograph/pyct/static_analysis/liveness.py:83: Analyzer.lamba_check (from tensorflow.python.autograph.pyct.static_analysis.liveness) is deprecated and will be removed after 2023-09-23.\n",
      "Instructions for updating:\n",
      "Lambda fuctions will be no more assumed to be used in the statement where they are used, or at least in the same block. https://github.com/tensorflow/tensorflow/issues/56089\n"
     ]
    }
   ],
   "source": [
    "SIZE = 160\n",
    "base_model, model = get_model(SIZE)\n",
    "model.load_weights(f\"model/model{SIZE}.ckpt\")\n",
    "test_ds, val_ds = get_dataset(False, SIZE, 1, 16, True)"
   ]
  },
  {
   "cell_type": "code",
   "execution_count": 4,
   "id": "782a7c4e",
   "metadata": {},
   "outputs": [],
   "source": [
    "for l in base_model.layers:\n",
    "    if isinstance(l, SparseConv2D):\n",
    "        l.in_mask = tf.ones(l.input_shape[1:],dtype=tf.float16)\n",
    "        l.out_mask = tf.ones(l.output_shape[1:],dtype=tf.float16)"
   ]
  },
  {
   "cell_type": "code",
   "execution_count": 5,
   "id": "17ffab92",
   "metadata": {},
   "outputs": [],
   "source": [
    "rand = tf.random.uniform(shape=(1, *base_model.input_shape[1:]))"
   ]
  },
  {
   "cell_type": "code",
   "execution_count": 6,
   "id": "3bc88efd",
   "metadata": {},
   "outputs": [
    {
     "data": {
      "text/plain": [
       "<tf.Tensor: shape=(1, 100), dtype=float16, numpy=\n",
       "array([[2.8286e-03, 6.4316e-03, 2.1820e-03, 1.5440e-03, 4.1542e-03,\n",
       "        1.3638e-04, 2.0809e-03, 8.5022e-02, 7.5912e-04, 7.1182e-03,\n",
       "        3.4142e-04, 4.8103e-03, 1.9932e-03, 1.3471e-04, 6.4802e-04,\n",
       "        9.9182e-03, 2.0737e-02, 9.5189e-05, 7.7391e-04, 1.8239e-04,\n",
       "        4.0131e-03, 2.0275e-03, 9.5189e-05, 1.2250e-01, 3.3173e-02,\n",
       "        7.5150e-04, 3.5458e-03, 3.0670e-02, 5.8985e-04, 5.0659e-03,\n",
       "        1.5392e-03, 9.3365e-04, 1.9064e-03, 3.8471e-03, 1.9760e-03,\n",
       "        2.3994e-03, 1.6003e-03, 7.6771e-04, 2.0771e-03, 2.9640e-03,\n",
       "        2.8641e-02, 4.2248e-04, 2.3136e-03, 1.7071e-03, 5.5580e-03,\n",
       "        4.4037e-02, 4.3449e-03, 5.3835e-04, 1.2960e-03, 3.2024e-03,\n",
       "        1.1116e-02, 1.6546e-04, 4.7505e-05, 3.1519e-04, 2.9907e-02,\n",
       "        1.7746e-02, 1.6260e-04, 2.0752e-03, 1.5676e-05, 1.8845e-03,\n",
       "        5.5923e-03, 2.5690e-05, 9.1171e-04, 9.3174e-04, 4.0192e-02,\n",
       "        8.0566e-03, 1.8749e-03, 7.0572e-03, 9.7811e-05, 7.3090e-03,\n",
       "        3.2635e-03, 6.4087e-03, 8.7738e-03, 1.3504e-02, 1.2260e-02,\n",
       "        9.8038e-04, 2.1191e-03, 1.6937e-03, 1.8873e-03, 2.5558e-02,\n",
       "        2.4261e-03, 6.9082e-05, 4.8340e-02, 2.9469e-03, 5.8079e-04,\n",
       "        3.8981e-04, 3.6836e-04, 1.1438e-04, 4.8804e-04, 2.5678e-04,\n",
       "        5.5492e-05, 9.8114e-03, 5.0316e-03, 3.9940e-03, 8.3351e-04,\n",
       "        1.0971e-02, 7.3433e-04, 8.2541e-04, 1.1566e-02, 2.2180e-01]],\n",
       "      dtype=float16)>"
      ]
     },
     "execution_count": 6,
     "metadata": {},
     "output_type": "execute_result"
    }
   ],
   "source": [
    "model(rand)"
   ]
  },
  {
   "cell_type": "code",
   "execution_count": 7,
   "id": "3b6bcbb4",
   "metadata": {},
   "outputs": [
    {
     "name": "stdout",
     "output_type": "stream",
     "text": [
      "WARNING:tensorflow:Compiled the loaded model, but the compiled metrics have yet to be built. `model.compile_metrics` will be empty until you train or evaluate the model.\n"
     ]
    }
   ],
   "source": [
    "model.save(\"test.h5\")"
   ]
  },
  {
   "cell_type": "code",
   "execution_count": 8,
   "id": "b03c87a2",
   "metadata": {},
   "outputs": [
    {
     "name": "stdout",
     "output_type": "stream",
     "text": [
      "WARNING:tensorflow:No training configuration found in the save file, so the model was *not* compiled. Compile it manually.\n",
      "WARNING:tensorflow:Detecting that an object or model or tf.train.Checkpoint is being deleted with unrestored values. See the following logs for the specific values in question. To silence these warnings, use `status.expect_partial()`. See https://www.tensorflow.org/api_docs/python/tf/train/Checkpoint#restorefor details about the status object returned by the restore function.\n",
      "WARNING:tensorflow:Value in checkpoint could not be found in the restored object: (root).optimizer._iterations\n",
      "WARNING:tensorflow:Value in checkpoint could not be found in the restored object: (root).optimizer._learning_rate\n",
      "WARNING:tensorflow:Value in checkpoint could not be found in the restored object: (root).optimizer._variables.1\n",
      "WARNING:tensorflow:Value in checkpoint could not be found in the restored object: (root).optimizer._variables.2\n",
      "WARNING:tensorflow:Value in checkpoint could not be found in the restored object: (root).optimizer._variables.3\n",
      "WARNING:tensorflow:Value in checkpoint could not be found in the restored object: (root).optimizer._variables.4\n"
     ]
    }
   ],
   "source": [
    "model = tf.keras.models.load_model(\"test.h5\")"
   ]
  },
  {
   "cell_type": "code",
   "execution_count": 10,
   "id": "4fb1950d",
   "metadata": {},
   "outputs": [
    {
     "data": {
      "text/plain": [
       "<tf.Tensor: shape=(1, 100), dtype=float16, numpy=\n",
       "array([[2.8286e-03, 6.4316e-03, 2.1820e-03, 1.5440e-03, 4.1542e-03,\n",
       "        1.3638e-04, 2.0809e-03, 8.5022e-02, 7.5912e-04, 7.1182e-03,\n",
       "        3.4142e-04, 4.8103e-03, 1.9932e-03, 1.3471e-04, 6.4802e-04,\n",
       "        9.9182e-03, 2.0737e-02, 9.5189e-05, 7.7391e-04, 1.8239e-04,\n",
       "        4.0131e-03, 2.0275e-03, 9.5189e-05, 1.2250e-01, 3.3173e-02,\n",
       "        7.5150e-04, 3.5458e-03, 3.0670e-02, 5.8985e-04, 5.0659e-03,\n",
       "        1.5392e-03, 9.3365e-04, 1.9064e-03, 3.8471e-03, 1.9760e-03,\n",
       "        2.3994e-03, 1.6003e-03, 7.6771e-04, 2.0771e-03, 2.9640e-03,\n",
       "        2.8641e-02, 4.2248e-04, 2.3136e-03, 1.7071e-03, 5.5580e-03,\n",
       "        4.4037e-02, 4.3449e-03, 5.3835e-04, 1.2960e-03, 3.2024e-03,\n",
       "        1.1116e-02, 1.6546e-04, 4.7505e-05, 3.1519e-04, 2.9907e-02,\n",
       "        1.7746e-02, 1.6260e-04, 2.0752e-03, 1.5676e-05, 1.8845e-03,\n",
       "        5.5923e-03, 2.5690e-05, 9.1171e-04, 9.3174e-04, 4.0192e-02,\n",
       "        8.0566e-03, 1.8749e-03, 7.0572e-03, 9.7811e-05, 7.3090e-03,\n",
       "        3.2635e-03, 6.4087e-03, 8.7738e-03, 1.3504e-02, 1.2260e-02,\n",
       "        9.8038e-04, 2.1191e-03, 1.6937e-03, 1.8873e-03, 2.5558e-02,\n",
       "        2.4261e-03, 6.9082e-05, 4.8340e-02, 2.9469e-03, 5.8079e-04,\n",
       "        3.8981e-04, 3.6836e-04, 1.1438e-04, 4.8804e-04, 2.5678e-04,\n",
       "        5.5492e-05, 9.8114e-03, 5.0316e-03, 3.9940e-03, 8.3351e-04,\n",
       "        1.0971e-02, 7.3433e-04, 8.2541e-04, 1.1566e-02, 2.2180e-01]],\n",
       "      dtype=float16)>"
      ]
     },
     "execution_count": 10,
     "metadata": {},
     "output_type": "execute_result"
    }
   ],
   "source": [
    "model(rand)"
   ]
  },
  {
   "cell_type": "code",
   "execution_count": 17,
   "id": "23f5000b",
   "metadata": {},
   "outputs": [],
   "source": [
    "rand = tf.random.uniform(shape=(1, 160, 160, 3))"
   ]
  },
  {
   "cell_type": "code",
   "execution_count": 18,
   "id": "afb60e10",
   "metadata": {},
   "outputs": [
    {
     "data": {
      "text/plain": [
       "False"
      ]
     },
     "execution_count": 18,
     "metadata": {},
     "output_type": "execute_result"
    }
   ],
   "source": [
    "np.allclose(new_model(rand), base_model(rand), rtol=1e-3, atol=1e-3)"
   ]
  },
  {
   "cell_type": "code",
   "execution_count": null,
   "id": "7548d9a7",
   "metadata": {},
   "outputs": [],
   "source": [
    "np.allclose(new_new_model(rand), base_model(rand), rtol=1e-3, atol=1e-3)"
   ]
  },
  {
   "cell_type": "code",
   "execution_count": 20,
   "id": "d4d1cb04",
   "metadata": {},
   "outputs": [],
   "source": [
    "l = ElementWiseMultiply()"
   ]
  },
  {
   "cell_type": "code",
   "execution_count": 1,
   "id": "c7a1581b",
   "metadata": {},
   "outputs": [
    {
     "name": "stderr",
     "output_type": "stream",
     "text": [
      "2023-03-13 17:20:15.692292: I tensorflow/core/platform/cpu_feature_guard.cc:193] This TensorFlow binary is optimized with oneAPI Deep Neural Network Library (oneDNN) to use the following CPU instructions in performance-critical operations:  SSE4.1 SSE4.2 AVX AVX2 AVX512F AVX512_VNNI FMA\n",
      "To enable them in other operations, rebuild TensorFlow with the appropriate compiler flags.\n",
      "2023-03-13 17:20:15.855841: I tensorflow/core/util/port.cc:104] oneDNN custom operations are on. You may see slightly different numerical results due to floating-point round-off errors from different computation orders. To turn them off, set the environment variable `TF_ENABLE_ONEDNN_OPTS=0`.\n"
     ]
    }
   ],
   "source": [
    "from tensorflow.keras.layers import Layer, Conv2D\n",
    "\n",
    "\n",
    "class SparseConv2D(Layer):\n",
    "    def __init__(self, conv_layer=None, in_mask=None, out_mask=None, **kwargs):\n",
    "        super().__init__(**kwargs)\n",
    "        self.conv_layer = conv_layer\n",
    "        self.in_mask = in_mask\n",
    "        self.out_mask = out_mask\n",
    "\n",
    "    @classmethod\n",
    "    def from_config(cls, config):\n",
    "        conv_layer_config = config.pop(\"conv_layer\")\n",
    "        conv_layer = Conv2D.from_config(conv_layer_config)\n",
    "        return cls(conv_layer=conv_layer, **config)\n",
    "\n",
    "    def build(self, input_shape):\n",
    "        super().build(input_shape)\n",
    "        self.conv_layer.build(\n",
    "            input_shape[:-1]\n",
    "            + (input_shape[-1] if self.in_mask is None else self.in_mask.shape[-1],)\n",
    "        )\n",
    "        self.in_mask = self.conv_layer.add_weight(\n",
    "            name=\"in_mask\",\n",
    "            shape=self.conv_layer.input_shape[-1:],\n",
    "            initializer=tf.keras.initializers.Constant(value=self.in_mask)\n",
    "            if self.in_mask is not None\n",
    "            else \"ones\",\n",
    "            trainable=False,\n",
    "        )\n",
    "        self.out_mask = self.add_weight(\n",
    "            name=\"out_mask\",\n",
    "            shape=self.conv_layer.filters,\n",
    "            initializer=tf.keras.initializers.Constant(value=self.out_mask)\n",
    "            if self.out_mask is not None\n",
    "            else \"ones\",\n",
    "            trainable=False,\n",
    "        )\n",
    "\n",
    "    def call(self, inputs):\n",
    "        masked_inputs = inputs * self.in_mask\n",
    "        masked_outputs = self.conv_layer(masked_inputs)\n",
    "        sparse_outputs = masked_outputs * self.out_mask\n",
    "        return sparse_outputs\n",
    "\n",
    "    def compute_output_shape(self, input_shape):\n",
    "        return self.conv_layer.compute_output_shape(\n",
    "            input_shape[:-1]\n",
    "            + (input_shape[-1] if self.in_mask is None else self.in_mask.shape[-1],)\n",
    "        )\n",
    "\n",
    "    def get_config(self):\n",
    "        config = super().get_config()\n",
    "        config[\"in_mask\"] = (\n",
    "            self.in_mask.numpy().tolist() if self.in_mask is not None else None\n",
    "        )\n",
    "        config[\"out_mask\"] = (\n",
    "            self.out_mask.numpy().tolist() if self.out_mask is not None else None\n",
    "        )\n",
    "        config[\"conv_layer\"] = self.conv_layer.get_config()\n",
    "        return config"
   ]
  },
  {
   "cell_type": "code",
   "execution_count": 27,
   "id": "02aa562c",
   "metadata": {},
   "outputs": [
    {
     "data": {
      "text/plain": [
       "<KerasTensor: shape=(None, 80, 80, 24) dtype=float16 (created by layer 'block1a_project_bn')>"
      ]
     },
     "execution_count": 27,
     "metadata": {},
     "output_type": "execute_result"
    }
   ],
   "source": [
    "base_model.layers[6].output"
   ]
  },
  {
   "cell_type": "code",
   "execution_count": 19,
   "id": "97697664",
   "metadata": {},
   "outputs": [
    {
     "data": {
      "text/plain": [
       "{'name': 'stem_conv',\n",
       " 'trainable': False,\n",
       " 'dtype': {'class_name': 'Policy', 'config': {'name': 'mixed_float16'}},\n",
       " 'filters': 24,\n",
       " 'kernel_size': (3, 3),\n",
       " 'strides': (2, 2),\n",
       " 'padding': 'same',\n",
       " 'data_format': 'channels_last',\n",
       " 'dilation_rate': (1, 1),\n",
       " 'groups': 1,\n",
       " 'activation': 'linear',\n",
       " 'use_bias': False,\n",
       " 'kernel_initializer': {'class_name': 'VarianceScaling',\n",
       "  'config': {'scale': 2.0,\n",
       "   'mode': 'fan_out',\n",
       "   'distribution': 'truncated_normal',\n",
       "   'seed': None}},\n",
       " 'bias_initializer': {'class_name': 'Zeros', 'config': {}},\n",
       " 'kernel_regularizer': None,\n",
       " 'bias_regularizer': None,\n",
       " 'activity_regularizer': None,\n",
       " 'kernel_constraint': None,\n",
       " 'bias_constraint': None}"
      ]
     },
     "execution_count": 19,
     "metadata": {},
     "output_type": "execute_result"
    }
   ],
   "source": [
    "base_model.layers[2].get_config()"
   ]
  },
  {
   "cell_type": "code",
   "execution_count": 33,
   "id": "a6bcee4a",
   "metadata": {},
   "outputs": [],
   "source": [
    "import tensorflow as tf\n",
    "from tensorflow.keras.layers import Layer\n",
    "\n",
    "\n",
    "class SparseConv2D(Layer):\n",
    "    def __init__(self, conv_layer, in_mask=None, out_mask=None):\n",
    "        super().__init__()\n",
    "        self.conv_layer = conv_layer\n",
    "        self.in_mask = in_mask\n",
    "        self.out_mask = out_mask\n",
    "\n",
    "    def build(self, input_shape):\n",
    "        super().build(input_shape)\n",
    "        self.conv_layer.build(\n",
    "            in_shape[:-1]\n",
    "            + (input_shape[-1] if self.in_mask is None else self.in_mask.shape[-1],)\n",
    "        )\n",
    "        self.in_mask = self.conv_layer.add_weight(\n",
    "            name=\"input_mask\",\n",
    "            shape=self.conv_layer.input_shape[-1:],\n",
    "            initializer=tf.keras.initializers.Constant(value=self.in_mask)\n",
    "            if self.in_mask is not None\n",
    "            else \"ones\",\n",
    "            trainable=False,\n",
    "        )\n",
    "        self.out_mask = self.add_weight(\n",
    "            name=\"output_mask\",\n",
    "            shape=self.conv_layer.filters,\n",
    "            initializer=tf.keras.initializers.Constant(value=self.out_mask)\n",
    "            if self.out_mask is not None\n",
    "            else \"ones\",\n",
    "            trainable=False,\n",
    "        )\n",
    "\n",
    "    def call(self, inputs):\n",
    "        masked_inputs = inputs * self.in_mask\n",
    "        masked_outputs = self.conv_layer(masked_inputs)\n",
    "        sparse_outputs = masked_outputs * self.out_mask\n",
    "        return sparse_outputs\n",
    "\n",
    "    def compute_output_shape(self, input_shape):\n",
    "        return self.conv_layer.compute_output_shape(\n",
    "            input_shape[:-1]\n",
    "            + (input_shape[-1] if self.in_mask is None else self.in_mask.shape[-1],)\n",
    "        )"
   ]
  },
  {
   "cell_type": "code",
   "execution_count": 35,
   "id": "3b0fe104",
   "metadata": {},
   "outputs": [],
   "source": [
    "l = SparseConv2D(base_model.layers[2])"
   ]
  },
  {
   "cell_type": "code",
   "execution_count": 40,
   "id": "f1c235a3",
   "metadata": {},
   "outputs": [
    {
     "data": {
      "text/plain": [
       "<keras.layers.convolutional.conv2d.Conv2D at 0x7fd56c0e1540>"
      ]
     },
     "execution_count": 40,
     "metadata": {},
     "output_type": "execute_result"
    }
   ],
   "source": [
    "base_model.layers[2]"
   ]
  },
  {
   "cell_type": "code",
   "execution_count": 18,
   "id": "c52ed44b",
   "metadata": {},
   "outputs": [
    {
     "name": "stdout",
     "output_type": "stream",
     "text": [
      "New layer: pruning Old layer: stem_conv Type: before\n"
     ]
    },
    {
     "ename": "ValueError",
     "evalue": "Exception encountered when calling layer \"stem_bn\" (type BatchNormalization).\n\nShape must be rank 4 but is rank 5 for '{{node stem_bn/FusedBatchNormV3}} = FusedBatchNormV3[T=DT_HALF, U=DT_FLOAT, data_format=\"NHWC\", epsilon=0.001, exponential_avg_factor=1, is_training=false](Placeholder, stem_bn/ReadVariableOp, stem_bn/ReadVariableOp_1, stem_bn/FusedBatchNormV3/ReadVariableOp, stem_bn/FusedBatchNormV3/ReadVariableOp_1)' with input shapes: [8,?,80,80,24], [24], [24], [24], [24].\n\nCall arguments received by layer \"stem_bn\" (type BatchNormalization):\n  • inputs=tf.Tensor(shape=(8, None, 80, 80, 24), dtype=float16)\n  • training=None",
     "output_type": "error",
     "traceback": [
      "\u001b[0;31m---------------------------------------------------------------------------\u001b[0m",
      "\u001b[0;31mValueError\u001b[0m                                Traceback (most recent call last)",
      "Cell \u001b[0;32mIn[18], line 1\u001b[0m\n\u001b[0;32m----> 1\u001b[0m \u001b[43minsert_layer_nonseq\u001b[49m\u001b[43m(\u001b[49m\u001b[43mbase_model\u001b[49m\u001b[43m,\u001b[49m\u001b[43m \u001b[49m\u001b[38;5;241;43m2\u001b[39;49m\u001b[43m,\u001b[49m\u001b[43m \u001b[49m\u001b[43mElementWiseMultiply\u001b[49m\u001b[43m,\u001b[49m\u001b[43m \u001b[49m\u001b[38;5;124;43m\"\u001b[39;49m\u001b[38;5;124;43mpruning\u001b[39;49m\u001b[38;5;124;43m\"\u001b[39;49m\u001b[43m,\u001b[49m\u001b[43m \u001b[49m\u001b[38;5;124;43m\"\u001b[39;49m\u001b[38;5;124;43mbefore\u001b[39;49m\u001b[38;5;124;43m\"\u001b[39;49m\u001b[43m)\u001b[49m\n",
      "Cell \u001b[0;32mIn[10], line 57\u001b[0m, in \u001b[0;36minsert_layer_nonseq\u001b[0;34m(model, layer_idx, insert_layer_factory, insert_layer_name, position)\u001b[0m\n\u001b[1;32m     55\u001b[0m         x \u001b[38;5;241m=\u001b[39m layer(x)\n\u001b[1;32m     56\u001b[0m \u001b[38;5;28;01melse\u001b[39;00m:\n\u001b[0;32m---> 57\u001b[0m     x \u001b[38;5;241m=\u001b[39m \u001b[43mlayer\u001b[49m\u001b[43m(\u001b[49m\u001b[43mlayer_input\u001b[49m\u001b[43m)\u001b[49m\n\u001b[1;32m     59\u001b[0m \u001b[38;5;66;03m# Set new output tensor (the original one, or the one of the inserted\u001b[39;00m\n\u001b[1;32m     60\u001b[0m \u001b[38;5;66;03m# layer)\u001b[39;00m\n\u001b[1;32m     61\u001b[0m network_dict[\u001b[38;5;124m'\u001b[39m\u001b[38;5;124mnew_output_tensor_of\u001b[39m\u001b[38;5;124m'\u001b[39m]\u001b[38;5;241m.\u001b[39mupdate({layer\u001b[38;5;241m.\u001b[39mname: x})\n",
      "File \u001b[0;32m~/mambaforge/envs/tf/lib/python3.10/site-packages/keras/utils/traceback_utils.py:70\u001b[0m, in \u001b[0;36mfilter_traceback.<locals>.error_handler\u001b[0;34m(*args, **kwargs)\u001b[0m\n\u001b[1;32m     67\u001b[0m     filtered_tb \u001b[38;5;241m=\u001b[39m _process_traceback_frames(e\u001b[38;5;241m.\u001b[39m__traceback__)\n\u001b[1;32m     68\u001b[0m     \u001b[38;5;66;03m# To get the full stack trace, call:\u001b[39;00m\n\u001b[1;32m     69\u001b[0m     \u001b[38;5;66;03m# `tf.debugging.disable_traceback_filtering()`\u001b[39;00m\n\u001b[0;32m---> 70\u001b[0m     \u001b[38;5;28;01mraise\u001b[39;00m e\u001b[38;5;241m.\u001b[39mwith_traceback(filtered_tb) \u001b[38;5;28;01mfrom\u001b[39;00m \u001b[38;5;28mNone\u001b[39m\n\u001b[1;32m     71\u001b[0m \u001b[38;5;28;01mfinally\u001b[39;00m:\n\u001b[1;32m     72\u001b[0m     \u001b[38;5;28;01mdel\u001b[39;00m filtered_tb\n",
      "File \u001b[0;32m~/mambaforge/envs/tf/lib/python3.10/site-packages/tensorflow/python/framework/ops.py:1967\u001b[0m, in \u001b[0;36m_create_c_op\u001b[0;34m(graph, node_def, inputs, control_inputs, op_def, extract_traceback)\u001b[0m\n\u001b[1;32m   1964\u001b[0m   c_op \u001b[38;5;241m=\u001b[39m pywrap_tf_session\u001b[38;5;241m.\u001b[39mTF_FinishOperation(op_desc)\n\u001b[1;32m   1965\u001b[0m \u001b[38;5;28;01mexcept\u001b[39;00m errors\u001b[38;5;241m.\u001b[39mInvalidArgumentError \u001b[38;5;28;01mas\u001b[39;00m e:\n\u001b[1;32m   1966\u001b[0m   \u001b[38;5;66;03m# Convert to ValueError for backwards compatibility.\u001b[39;00m\n\u001b[0;32m-> 1967\u001b[0m   \u001b[38;5;28;01mraise\u001b[39;00m \u001b[38;5;167;01mValueError\u001b[39;00m(e\u001b[38;5;241m.\u001b[39mmessage)\n\u001b[1;32m   1969\u001b[0m \u001b[38;5;66;03m# Record the current Python stack trace as the creating stacktrace of this\u001b[39;00m\n\u001b[1;32m   1970\u001b[0m \u001b[38;5;66;03m# TF_Operation.\u001b[39;00m\n\u001b[1;32m   1971\u001b[0m \u001b[38;5;28;01mif\u001b[39;00m extract_traceback:\n",
      "\u001b[0;31mValueError\u001b[0m: Exception encountered when calling layer \"stem_bn\" (type BatchNormalization).\n\nShape must be rank 4 but is rank 5 for '{{node stem_bn/FusedBatchNormV3}} = FusedBatchNormV3[T=DT_HALF, U=DT_FLOAT, data_format=\"NHWC\", epsilon=0.001, exponential_avg_factor=1, is_training=false](Placeholder, stem_bn/ReadVariableOp, stem_bn/ReadVariableOp_1, stem_bn/FusedBatchNormV3/ReadVariableOp, stem_bn/FusedBatchNormV3/ReadVariableOp_1)' with input shapes: [8,?,80,80,24], [24], [24], [24], [24].\n\nCall arguments received by layer \"stem_bn\" (type BatchNormalization):\n  • inputs=tf.Tensor(shape=(8, None, 80, 80, 24), dtype=float16)\n  • training=None"
     ]
    }
   ],
   "source": [
    "insert_layer_nonseq(base_model, 2, ElementWiseMultiply, \"pruning\", \"before\")"
   ]
  },
  {
   "cell_type": "code",
   "execution_count": 16,
   "id": "2fdf0be1",
   "metadata": {},
   "outputs": [
    {
     "name": "stdout",
     "output_type": "stream",
     "text": [
      "You must install pydot (`pip install pydot`) and install graphviz (see instructions at https://graphviz.gitlab.io/download/) for plot_model to work.\n"
     ]
    }
   ],
   "source": [
    "tf.keras.utils.plot_model(base_model)"
   ]
  },
  {
   "cell_type": "code",
   "execution_count": 8,
   "id": "949aaf40",
   "metadata": {},
   "outputs": [
    {
     "ename": "AttributeError",
     "evalue": "The layer \"rescaling\" has multiple inbound nodes, with different output shapes. Hence the notion of \"output shape\" is ill-defined for the layer. Use `get_output_shape_at(node_index)` instead.",
     "output_type": "error",
     "traceback": [
      "\u001b[0;31m---------------------------------------------------------------------------\u001b[0m",
      "\u001b[0;31mAttributeError\u001b[0m                            Traceback (most recent call last)",
      "Cell \u001b[0;32mIn[8], line 1\u001b[0m\n\u001b[0;32m----> 1\u001b[0m base_model2 \u001b[38;5;241m=\u001b[39m \u001b[43minsert_layer\u001b[49m\u001b[43m(\u001b[49m\u001b[43mbase_model\u001b[49m\u001b[43m,\u001b[49m\u001b[43m \u001b[49m\u001b[38;5;241;43m1\u001b[39;49m\u001b[43m,\u001b[49m\u001b[43m \u001b[49m\u001b[43mElementWiseMultiply\u001b[49m\u001b[43m(\u001b[49m\u001b[43m)\u001b[49m\u001b[43m)\u001b[49m\n",
      "Cell \u001b[0;32mIn[4], line 5\u001b[0m, in \u001b[0;36minsert_layer\u001b[0;34m(model, layer_num, new_layer)\u001b[0m\n\u001b[1;32m      4\u001b[0m \u001b[38;5;28;01mdef\u001b[39;00m \u001b[38;5;21minsert_layer\u001b[39m(model, layer_num, new_layer):\n\u001b[0;32m----> 5\u001b[0m     output_shape \u001b[38;5;241m=\u001b[39m \u001b[43mmodel\u001b[49m\u001b[38;5;241;43m.\u001b[39;49m\u001b[43mlayers\u001b[49m\u001b[43m[\u001b[49m\u001b[43mlayer_num\u001b[49m\u001b[43m]\u001b[49m\u001b[38;5;241;43m.\u001b[39;49m\u001b[43moutput_shape\u001b[49m\n\u001b[1;32m      6\u001b[0m     input_layer \u001b[38;5;241m=\u001b[39m Input(shape\u001b[38;5;241m=\u001b[39moutput_shape[\u001b[38;5;241m1\u001b[39m:])\n\u001b[1;32m      7\u001b[0m     new_layer_output \u001b[38;5;241m=\u001b[39m new_layer(input_layer)\n",
      "File \u001b[0;32m~/mambaforge/envs/tf/lib/python3.10/site-packages/keras/engine/base_layer.py:2179\u001b[0m, in \u001b[0;36mLayer.output_shape\u001b[0;34m(self)\u001b[0m\n\u001b[1;32m   2177\u001b[0m     \u001b[38;5;28;01mreturn\u001b[39;00m \u001b[38;5;28mself\u001b[39m\u001b[38;5;241m.\u001b[39m_inbound_nodes[\u001b[38;5;241m0\u001b[39m]\u001b[38;5;241m.\u001b[39moutput_shapes\n\u001b[1;32m   2178\u001b[0m \u001b[38;5;28;01melse\u001b[39;00m:\n\u001b[0;32m-> 2179\u001b[0m     \u001b[38;5;28;01mraise\u001b[39;00m \u001b[38;5;167;01mAttributeError\u001b[39;00m(\n\u001b[1;32m   2180\u001b[0m         \u001b[38;5;124m'\u001b[39m\u001b[38;5;124mThe layer \u001b[39m\u001b[38;5;124m\"\u001b[39m\u001b[38;5;132;01m%s\u001b[39;00m\u001b[38;5;124m\"\u001b[39m\u001b[38;5;124m'\u001b[39m\n\u001b[1;32m   2181\u001b[0m         \u001b[38;5;124m\"\u001b[39m\u001b[38;5;124m has multiple inbound nodes, \u001b[39m\u001b[38;5;124m\"\u001b[39m\n\u001b[1;32m   2182\u001b[0m         \u001b[38;5;124m\"\u001b[39m\u001b[38;5;124mwith different output shapes. Hence \u001b[39m\u001b[38;5;124m\"\u001b[39m\n\u001b[1;32m   2183\u001b[0m         \u001b[38;5;124m'\u001b[39m\u001b[38;5;124mthe notion of \u001b[39m\u001b[38;5;124m\"\u001b[39m\u001b[38;5;124moutput shape\u001b[39m\u001b[38;5;124m\"\u001b[39m\u001b[38;5;124m is \u001b[39m\u001b[38;5;124m'\u001b[39m\n\u001b[1;32m   2184\u001b[0m         \u001b[38;5;124m\"\u001b[39m\u001b[38;5;124mill-defined for the layer. \u001b[39m\u001b[38;5;124m\"\u001b[39m\n\u001b[1;32m   2185\u001b[0m         \u001b[38;5;124m\"\u001b[39m\u001b[38;5;124mUse `get_output_shape_at(node_index)` \u001b[39m\u001b[38;5;124m\"\u001b[39m\n\u001b[1;32m   2186\u001b[0m         \u001b[38;5;124m\"\u001b[39m\u001b[38;5;124minstead.\u001b[39m\u001b[38;5;124m\"\u001b[39m \u001b[38;5;241m%\u001b[39m \u001b[38;5;28mself\u001b[39m\u001b[38;5;241m.\u001b[39mname\n\u001b[1;32m   2187\u001b[0m     )\n",
      "\u001b[0;31mAttributeError\u001b[0m: The layer \"rescaling\" has multiple inbound nodes, with different output shapes. Hence the notion of \"output shape\" is ill-defined for the layer. Use `get_output_shape_at(node_index)` instead."
     ]
    }
   ],
   "source": [
    "base_model2 = insert_layer(base_model, 1, ElementWiseMultiply())"
   ]
  },
  {
   "cell_type": "code",
   "execution_count": 20,
   "id": "6eb54aac",
   "metadata": {},
   "outputs": [],
   "source": [
    "from tensorflow import keras\n",
    "from tensorflow.keras import layers\n",
    "\n",
    "inputs = tf.random.uniform(shape=(1, 28, 28, 1))\n",
    "model = keras.Sequential(\n",
    "    [\n",
    "        keras.Input(shape=(28, 28, 1)),\n",
    "        layers.Conv2D(32, kernel_size=(3, 3), activation=\"relu\"),\n",
    "        layers.Dense(10, activation=\"softmax\"),\n",
    "    ]\n",
    ")\n",
    "basic_outs = model(inputs)\n",
    "model_2 = tf.keras.models.clone_model(model)\n",
    "model_2.set_weights(model.get_weights())"
   ]
  },
  {
   "cell_type": "code",
   "execution_count": 24,
   "id": "9c6e5b42",
   "metadata": {},
   "outputs": [],
   "source": [
    "model_2.layers[1]._input_mask = tf.random.uniform(shape=(1, 28, 28, 1)) > 0.5"
   ]
  },
  {
   "cell_type": "code",
   "execution_count": 27,
   "id": "794a1663",
   "metadata": {},
   "outputs": [
    {
     "ename": "TypeError",
     "evalue": "Layer.get_input_mask_at() missing 1 required positional argument: 'node_index'",
     "output_type": "error",
     "traceback": [
      "\u001b[0;31m---------------------------------------------------------------------------\u001b[0m",
      "\u001b[0;31mTypeError\u001b[0m                                 Traceback (most recent call last)",
      "Cell \u001b[0;32mIn[27], line 1\u001b[0m\n\u001b[0;32m----> 1\u001b[0m \u001b[43mmodel_2\u001b[49m\u001b[38;5;241;43m.\u001b[39;49m\u001b[43mlayers\u001b[49m\u001b[43m[\u001b[49m\u001b[38;5;241;43m1\u001b[39;49m\u001b[43m]\u001b[49m\u001b[38;5;241;43m.\u001b[39;49m\u001b[43mget_input_mask_at\u001b[49m\u001b[43m(\u001b[49m\u001b[43m)\u001b[49m\n",
      "\u001b[0;31mTypeError\u001b[0m: Layer.get_input_mask_at() missing 1 required positional argument: 'node_index'"
     ]
    }
   ],
   "source": [
    "model_2.layers[1].get_input_mask_at()"
   ]
  },
  {
   "cell_type": "code",
   "execution_count": 4,
   "id": "8ff2ad1d",
   "metadata": {},
   "outputs": [],
   "source": [
    "conv_idx = [\n",
    "    i for i, l in enumerate(base_model.layers) if isinstance(l, tf.keras.layers.Conv2D)\n",
    "]"
   ]
  },
  {
   "cell_type": "code",
   "execution_count": 43,
   "id": "a1a4b744",
   "metadata": {},
   "outputs": [
    {
     "data": {
      "text/plain": [
       "[False,\n",
       " False,\n",
       " False,\n",
       " False,\n",
       " False,\n",
       " False,\n",
       " False,\n",
       " False,\n",
       " False,\n",
       " False,\n",
       " False,\n",
       " False,\n",
       " False,\n",
       " False,\n",
       " False,\n",
       " False,\n",
       " False,\n",
       " False,\n",
       " False,\n",
       " False,\n",
       " False,\n",
       " False,\n",
       " False,\n",
       " False,\n",
       " False,\n",
       " False,\n",
       " False,\n",
       " False,\n",
       " False,\n",
       " False]"
      ]
     },
     "execution_count": 43,
     "metadata": {},
     "output_type": "execute_result"
    }
   ],
   "source": [
    "[base_model.layers[i].bias is None for i in followed_by_conv2d]"
   ]
  },
  {
   "cell_type": "code",
   "execution_count": 42,
   "id": "6754e23d",
   "metadata": {},
   "outputs": [],
   "source": [
    "followed_by_conv2d = [\n",
    "    i\n",
    "    for i in conv_idx\n",
    "    if type(base_model.layers[i]._outbound_nodes[0].outbound_layer)\n",
    "    == keras.layers.Multiply\n",
    "]"
   ]
  },
  {
   "cell_type": "code",
   "execution_count": 18,
   "id": "6432c538",
   "metadata": {},
   "outputs": [
    {
     "data": {
      "text/plain": [
       "array([ True,  True,  True,  True,  True,  True,  True,  True,  True,\n",
       "        True,  True,  True,  True,  True,  True,  True,  True,  True,\n",
       "        True,  True,  True,  True,  True,  True,  True,  True,  True,\n",
       "        True,  True,  True,  True,  True,  True,  True,  True,  True,\n",
       "        True,  True,  True,  True,  True,  True,  True,  True,  True,\n",
       "        True,  True,  True,  True,  True,  True,  True,  True,  True,\n",
       "        True,  True,  True,  True,  True,  True, False, False, False,\n",
       "       False, False, False, False, False, False, False, False, False,\n",
       "       False, False, False, False, False, False, False, False, False,\n",
       "       False, False, False, False, False, False, False, False, False,\n",
       "       False, False, False, False, False, False, False, False, False,\n",
       "       False, False, False, False, False, False, False, False, False,\n",
       "       False, False, False, False, False, False, False, False, False,\n",
       "       False, False, False, False, False, False, False, False, False,\n",
       "       False, False, False, False, False, False, False, False, False,\n",
       "       False, False, False, False, False])"
      ]
     },
     "execution_count": 18,
     "metadata": {},
     "output_type": "execute_result"
    }
   ],
   "source": [
    "is_bias = np.array([base_model.layers[i].use_bias for i in conv_idx])\n",
    "from utils import get_weights\n",
    "\n",
    "asort = np.argsort(get_weights(conv_idx, base_model))\n",
    "is_bias[asort]"
   ]
  },
  {
   "cell_type": "code",
   "execution_count": 21,
   "id": "19cb4daa",
   "metadata": {},
   "outputs": [
    {
     "data": {
      "text/plain": [
       "array([[2, 2],\n",
       "       [1, 1],\n",
       "       [1, 1],\n",
       "       [2, 2],\n",
       "       [1, 1],\n",
       "       [1, 1],\n",
       "       [1, 1],\n",
       "       [1, 1],\n",
       "       [1, 1],\n",
       "       [1, 1],\n",
       "       [1, 1],\n",
       "       [2, 2],\n",
       "       [1, 1],\n",
       "       [1, 1],\n",
       "       [1, 1],\n",
       "       [1, 1],\n",
       "       [1, 1],\n",
       "       [1, 1],\n",
       "       [1, 1],\n",
       "       [1, 1],\n",
       "       [1, 1],\n",
       "       [1, 1],\n",
       "       [1, 1],\n",
       "       [1, 1],\n",
       "       [1, 1],\n",
       "       [1, 1],\n",
       "       [1, 1],\n",
       "       [1, 1],\n",
       "       [1, 1],\n",
       "       [1, 1],\n",
       "       [1, 1],\n",
       "       [1, 1],\n",
       "       [1, 1],\n",
       "       [1, 1],\n",
       "       [1, 1],\n",
       "       [1, 1],\n",
       "       [1, 1],\n",
       "       [1, 1],\n",
       "       [1, 1],\n",
       "       [1, 1],\n",
       "       [1, 1],\n",
       "       [1, 1],\n",
       "       [1, 1],\n",
       "       [1, 1],\n",
       "       [1, 1],\n",
       "       [1, 1],\n",
       "       [1, 1],\n",
       "       [1, 1],\n",
       "       [1, 1],\n",
       "       [1, 1],\n",
       "       [1, 1],\n",
       "       [1, 1],\n",
       "       [1, 1],\n",
       "       [1, 1],\n",
       "       [1, 1],\n",
       "       [1, 1],\n",
       "       [1, 1],\n",
       "       [1, 1],\n",
       "       [1, 1],\n",
       "       [1, 1],\n",
       "       [1, 1],\n",
       "       [1, 1],\n",
       "       [1, 1],\n",
       "       [1, 1],\n",
       "       [1, 1],\n",
       "       [1, 1],\n",
       "       [1, 1],\n",
       "       [1, 1],\n",
       "       [1, 1],\n",
       "       [1, 1],\n",
       "       [1, 1],\n",
       "       [1, 1],\n",
       "       [1, 1],\n",
       "       [1, 1],\n",
       "       [1, 1],\n",
       "       [1, 1],\n",
       "       [1, 1],\n",
       "       [1, 1],\n",
       "       [1, 1],\n",
       "       [1, 1],\n",
       "       [1, 1],\n",
       "       [1, 1],\n",
       "       [1, 1],\n",
       "       [1, 1],\n",
       "       [1, 1],\n",
       "       [1, 1],\n",
       "       [1, 1],\n",
       "       [1, 1],\n",
       "       [1, 1],\n",
       "       [1, 1],\n",
       "       [1, 1],\n",
       "       [1, 1],\n",
       "       [1, 1],\n",
       "       [1, 1],\n",
       "       [1, 1],\n",
       "       [1, 1],\n",
       "       [1, 1],\n",
       "       [1, 1],\n",
       "       [1, 1],\n",
       "       [1, 1],\n",
       "       [1, 1],\n",
       "       [1, 1],\n",
       "       [1, 1],\n",
       "       [1, 1],\n",
       "       [1, 1],\n",
       "       [1, 1],\n",
       "       [1, 1],\n",
       "       [1, 1],\n",
       "       [1, 1],\n",
       "       [1, 1],\n",
       "       [1, 1],\n",
       "       [1, 1],\n",
       "       [1, 1],\n",
       "       [1, 1],\n",
       "       [1, 1],\n",
       "       [1, 1],\n",
       "       [1, 1],\n",
       "       [1, 1],\n",
       "       [1, 1],\n",
       "       [1, 1],\n",
       "       [1, 1],\n",
       "       [1, 1],\n",
       "       [1, 1],\n",
       "       [1, 1],\n",
       "       [1, 1],\n",
       "       [1, 1],\n",
       "       [1, 1],\n",
       "       [1, 1],\n",
       "       [1, 1],\n",
       "       [1, 1],\n",
       "       [1, 1],\n",
       "       [1, 1],\n",
       "       [1, 1],\n",
       "       [1, 1],\n",
       "       [1, 1],\n",
       "       [1, 1],\n",
       "       [1, 1],\n",
       "       [1, 1],\n",
       "       [1, 1],\n",
       "       [1, 1]])"
      ]
     },
     "execution_count": 21,
     "metadata": {},
     "output_type": "execute_result"
    }
   ],
   "source": [
    "np.array([base_model.layers[i].strides for i in conv_idx])"
   ]
  },
  {
   "cell_type": "code",
   "execution_count": 5,
   "id": "d6cda539",
   "metadata": {},
   "outputs": [],
   "source": [
    "def apply_mask(out, mask, weights):\n",
    "    # return out * tf.cast(tf.logical_not(mask), tf.float32) + weights * tf.cast(\n",
    "    #    mask, tf.float32\n",
    "    # )\n",
    "    return out * tf.cast(tf.logical_not(mask), tf.float16)"
   ]
  },
  {
   "cell_type": "code",
   "execution_count": 6,
   "id": "addd7e34",
   "metadata": {},
   "outputs": [],
   "source": [
    "def call_wrapper(func, mask, weights):\n",
    "    def wrapper(*args, **kwargs):\n",
    "        return apply_mask(func(*args, **kwargs), mask, weights)\n",
    "\n",
    "    return wrapper"
   ]
  },
  {
   "cell_type": "code",
   "execution_count": 7,
   "id": "2f42b3cd",
   "metadata": {},
   "outputs": [],
   "source": [
    "def set_const(layer, mask, weights):\n",
    "    if not \"partial\" in layer.name:\n",
    "        layer.default_call = layer.call\n",
    "        layer._name = f\"partial_{layer.name}\"\n",
    "    layer._mask = mask\n",
    "    layer.call = call_wrapper(layer.default_call, layer._mask, weights)"
   ]
  },
  {
   "cell_type": "code",
   "execution_count": 8,
   "id": "f9b0fdbe",
   "metadata": {},
   "outputs": [],
   "source": [
    "def test():\n",
    "    weights = tf.random.uniform(shape=[112, 112, 24], minval=0, maxval=4)\n",
    "    mask = tf.random.uniform(shape=[112, 112, 24], minval=0, maxval=1) > 0.2\n",
    "    set_const(base_model.layers[conv_idx[0]], mask, weights)\n",
    "    random_input = tf.random.uniform(shape=[1, 224, 224, 3])\n",
    "    out1 = base_model.layers[conv_idx[0]].call(random_input)\n",
    "    out2 = base_model.layers[conv_idx[0]].default_call(random_input)\n",
    "    print(tf.reduce_sum(tf.cast(out1 == out2, tf.float32) / (112 * 112 * 24)))"
   ]
  },
  {
   "cell_type": "code",
   "execution_count": 9,
   "id": "20f5f7c6",
   "metadata": {},
   "outputs": [],
   "source": [
    "def get_activations(model):\n",
    "    activations = []\n",
    "    for j, (d, t) in enumerate(test_ds):\n",
    "        if j == 40:\n",
    "            break\n",
    "        activations.append(model(d))\n",
    "    return tf.concat(activations, 0)"
   ]
  },
  {
   "cell_type": "code",
   "execution_count": null,
   "id": "31132fc7",
   "metadata": {},
   "outputs": [
    {
     "data": {
      "application/vnd.jupyter.widget-view+json": {
       "model_id": "842acd462e16421d88dba41ad3032e2b",
       "version_major": 2,
       "version_minor": 0
      },
      "text/plain": [
       "  0%|          | 0/140 [00:00<?, ?it/s]"
      ]
     },
     "metadata": {},
     "output_type": "display_data"
    },
    {
     "name": "stderr",
     "output_type": "stream",
     "text": [
      "2023-02-15 12:35:04.616971: I tensorflow/compiler/xla/stream_executor/cuda/cuda_dnn.cc:428] Loaded cuDNN version 8401\n"
     ]
    },
    {
     "name": "stdout",
     "output_type": "stream",
     "text": [
      "BASELINE: 0.71240\n",
      "Accuracy: 0.57120, threshold: 25.0%\n",
      "Accuracy: 0.70680, threshold: 12.5%\n",
      "Accuracy: 0.71000, threshold: 6.25%\n",
      "Accuracy: 0.71240, threshold: 9.375%\n",
      "Accuracy: 0.71160, threshold: 10.9375%\n",
      "Threshold: 0.00038 (9.375%)\n",
      "BASELINE: 0.71160\n",
      "Accuracy: 0.58000, threshold: 25.0%\n",
      "Accuracy: 0.67260, threshold: 12.5%\n",
      "Accuracy: 0.71000, threshold: 6.25%\n",
      "Accuracy: 0.71100, threshold: 9.375%\n",
      "Accuracy: 0.70740, threshold: 7.8125%\n",
      "Threshold: 0.46216 (6.25%)\n",
      "BASELINE: 0.71100\n",
      "Accuracy: 0.56160, threshold: 25.0%\n",
      "Accuracy: 0.65840, threshold: 12.5%\n",
      "Accuracy: 0.69380, threshold: 6.25%\n",
      "Accuracy: 0.70300, threshold: 3.125%\n",
      "Accuracy: 0.70840, threshold: 1.5625%\n",
      "Threshold: 0.00000 (0%)\n",
      "BASELINE: 0.71100\n",
      "Accuracy: 0.65620, threshold: 25.0%\n",
      "Accuracy: 0.70660, threshold: 12.5%\n",
      "Accuracy: 0.71120, threshold: 18.75%\n",
      "Accuracy: 0.71020, threshold: 21.875%\n",
      "Accuracy: 0.70860, threshold: 20.3125%\n",
      "Threshold: 7.81250 (18.75%)\n",
      "BASELINE: 0.71020\n",
      "Accuracy: 0.59780, threshold: 25.0%\n",
      "Accuracy: 0.69520, threshold: 12.5%\n",
      "Accuracy: 0.70480, threshold: 6.25%\n",
      "Accuracy: 0.70900, threshold: 3.125%\n",
      "Accuracy: 0.71140, threshold: 4.6875%\n",
      "Threshold: 8.37500 (3.125%)\n",
      "BASELINE: 0.71140\n",
      "Accuracy: 0.69940, threshold: 25.0%\n",
      "Accuracy: 0.70640, threshold: 12.5%\n",
      "Accuracy: 0.71360, threshold: 18.75%\n",
      "Accuracy: 0.70960, threshold: 15.625%\n",
      "Accuracy: 0.71160, threshold: 14.0625%\n",
      "Threshold: 39.56250 (12.5%)\n",
      "BASELINE: 0.71360\n",
      "Accuracy: 0.71000, threshold: 25.0%\n",
      "Accuracy: 0.70860, threshold: 12.5%\n",
      "Accuracy: 0.70800, threshold: 6.25%\n",
      "Accuracy: 0.71140, threshold: 3.125%\n",
      "Accuracy: 0.71280, threshold: 4.6875%\n",
      "Threshold: 0.24231 (3.125%)\n",
      "BASELINE: 0.71280\n",
      "Accuracy: 0.70940, threshold: 25.0%\n",
      "Accuracy: 0.71140, threshold: 12.5%\n",
      "Accuracy: 0.71100, threshold: 6.25%\n",
      "Accuracy: 0.71220, threshold: 9.375%\n",
      "Accuracy: 0.71200, threshold: 10.9375%\n",
      "Threshold: 38.18750 (9.375%)\n",
      "BASELINE: 0.71200\n",
      "Accuracy: 0.70340, threshold: 25.0%\n",
      "Accuracy: 0.71160, threshold: 37.5%\n",
      "Accuracy: 0.70860, threshold: 31.25%\n",
      "Accuracy: 0.70900, threshold: 28.125%\n",
      "Accuracy: 0.70980, threshold: 26.5625%\n",
      "Threshold: 0.19360 (25.0%)\n",
      "BASELINE: 0.71160\n",
      "Accuracy: 0.70620, threshold: 25.0%\n",
      "Accuracy: 0.70880, threshold: 12.5%\n",
      "Accuracy: 0.70960, threshold: 6.25%\n",
      "Accuracy: 0.71180, threshold: 9.375%\n",
      "Accuracy: 0.71060, threshold: 7.8125%\n",
      "Threshold: 37.87500 (6.25%)\n",
      "BASELINE: 0.71180\n",
      "Accuracy: 0.67940, threshold: 25.0%\n",
      "Accuracy: 0.70220, threshold: 12.5%\n",
      "Accuracy: 0.70620, threshold: 6.25%\n",
      "Accuracy: 0.70960, threshold: 3.125%\n",
      "Accuracy: 0.71100, threshold: 4.6875%\n",
      "Threshold: 0.04807 (3.125%)\n",
      "BASELINE: 0.71100\n",
      "Accuracy: 0.55320, threshold: 25.0%\n",
      "Accuracy: 0.68160, threshold: 12.5%\n",
      "Accuracy: 0.70300, threshold: 6.25%\n",
      "Accuracy: 0.70940, threshold: 3.125%\n",
      "Accuracy: 0.70940, threshold: 1.5625%\n",
      "Threshold: 0.00000 (0%)\n",
      "BASELINE: 0.71100\n",
      "Accuracy: 0.35360, threshold: 25.0%\n",
      "Accuracy: 0.63600, threshold: 12.5%\n",
      "Accuracy: 0.69440, threshold: 6.25%\n",
      "Accuracy: 0.69980, threshold: 3.125%\n",
      "Accuracy: 0.70560, threshold: 1.5625%\n",
      "Threshold: 0.00000 (0%)\n",
      "BASELINE: 0.71100\n",
      "Accuracy: 0.70300, threshold: 25.0%\n",
      "Accuracy: 0.70800, threshold: 12.5%\n",
      "Accuracy: 0.71040, threshold: 18.75%\n",
      "Accuracy: 0.70860, threshold: 15.625%\n",
      "Accuracy: 0.71040, threshold: 17.1875%\n",
      "Threshold: 59.65625 (15.625%)\n",
      "BASELINE: 0.71040\n",
      "Accuracy: 0.69720, threshold: 25.0%\n",
      "Accuracy: 0.70240, threshold: 12.5%\n",
      "Accuracy: 0.70560, threshold: 6.25%\n",
      "Accuracy: 0.70740, threshold: 3.125%\n",
      "Accuracy: 0.71140, threshold: 4.6875%\n",
      "Threshold: 0.07758 (3.125%)\n",
      "BASELINE: 0.71140\n",
      "Accuracy: 0.69180, threshold: 25.0%\n",
      "Accuracy: 0.70180, threshold: 12.5%\n",
      "Accuracy: 0.70700, threshold: 6.25%\n",
      "Accuracy: 0.70980, threshold: 3.125%\n",
      "Accuracy: 0.70980, threshold: 1.5625%\n",
      "Threshold: 0.00000 (0%)\n",
      "BASELINE: 0.71140\n",
      "Accuracy: 0.69760, threshold: 25.0%\n",
      "Accuracy: 0.70600, threshold: 12.5%\n",
      "Accuracy: 0.70680, threshold: 6.25%\n",
      "Accuracy: 0.70960, threshold: 3.125%\n",
      "Accuracy: 0.71020, threshold: 1.5625%\n",
      "Threshold: 0.00000 (0%)\n",
      "BASELINE: 0.71140\n",
      "Accuracy: 0.70220, threshold: 25.0%\n",
      "Accuracy: 0.70220, threshold: 12.5%\n",
      "Accuracy: 0.70800, threshold: 6.25%\n",
      "Accuracy: 0.70860, threshold: 3.125%\n",
      "Accuracy: 0.70980, threshold: 1.5625%\n",
      "Threshold: 0.00000 (0%)\n",
      "BASELINE: 0.71140\n",
      "Accuracy: 0.69960, threshold: 25.0%\n",
      "Accuracy: 0.70600, threshold: 12.5%\n",
      "Accuracy: 0.70920, threshold: 6.25%\n",
      "Accuracy: 0.71160, threshold: 9.375%\n",
      "Accuracy: 0.71020, threshold: 7.8125%\n",
      "Threshold: 0.03558 (6.25%)\n",
      "BASELINE: 0.71160\n",
      "Accuracy: 0.52100, threshold: 25.0%\n",
      "Accuracy: 0.69060, threshold: 12.5%\n",
      "Accuracy: 0.70820, threshold: 6.25%\n",
      "Accuracy: 0.71100, threshold: 9.375%\n",
      "Accuracy: 0.71060, threshold: 10.9375%\n",
      "Threshold: 24.67188 (9.375%)\n",
      "BASELINE: 0.71060\n",
      "Accuracy: 0.71060, threshold: 75.0%\n",
      "Accuracy: 0.71160, threshold: 87.5%\n",
      "Accuracy: 0.71120, threshold: 93.75%\n",
      "Accuracy: 0.71020, threshold: 90.625%\n",
      "Accuracy: 0.71020, threshold: 89.0625%\n",
      "Threshold: 25.59375 (87.5%)\n",
      "BASELINE: 0.71120\n",
      "Accuracy: 0.23300, threshold: 25.0%\n",
      "Accuracy: 0.68020, threshold: 12.5%\n",
      "Accuracy: 0.70480, threshold: 6.25%\n",
      "Accuracy: 0.71040, threshold: 9.375%\n",
      "Accuracy: 0.70700, threshold: 7.8125%\n",
      "Threshold: 0.77637 (6.25%)\n",
      "BASELINE: 0.71040\n",
      "Accuracy: 0.39660, threshold: 25.0%\n",
      "Accuracy: 0.67520, threshold: 12.5%\n",
      "Accuracy: 0.69960, threshold: 6.25%\n",
      "Accuracy: 0.70880, threshold: 3.125%\n",
      "Accuracy: 0.71080, threshold: 4.6875%\n",
      "Threshold: 4.01953 (3.125%)\n",
      "BASELINE: 0.71080\n",
      "Accuracy: 0.70380, threshold: 25.0%\n",
      "Accuracy: 0.70760, threshold: 12.5%\n",
      "Accuracy: 0.71080, threshold: 18.75%\n",
      "Accuracy: 0.70820, threshold: 15.625%\n",
      "Accuracy: 0.70980, threshold: 17.1875%\n",
      "Threshold: 11.12500 (15.625%)\n",
      "BASELINE: 0.70980\n",
      "Accuracy: 0.70720, threshold: 25.0%\n",
      "Accuracy: 0.70820, threshold: 12.5%\n",
      "Accuracy: 0.70940, threshold: 18.75%\n",
      "Accuracy: 0.70980, threshold: 21.875%\n",
      "Accuracy: 0.70940, threshold: 23.4375%\n",
      "Threshold: 0.58496 (21.875%)\n",
      "BASELINE: 0.70940\n",
      "Accuracy: 0.70380, threshold: 25.0%\n",
      "Accuracy: 0.70800, threshold: 12.5%\n",
      "Accuracy: 0.70920, threshold: 18.75%\n",
      "Accuracy: 0.70860, threshold: 21.875%\n",
      "Accuracy: 0.70760, threshold: 20.3125%\n",
      "Threshold: 0.00677 (18.75%)\n",
      "BASELINE: 0.70860\n",
      "Accuracy: 0.70760, threshold: 75.0%\n",
      "Accuracy: 0.70560, threshold: 62.5%\n",
      "Accuracy: 0.70700, threshold: 56.25%\n",
      "Accuracy: 0.70900, threshold: 59.375%\n",
      "Accuracy: 0.70780, threshold: 57.8125%\n",
      "Threshold: 0.21741 (56.25%)\n",
      "BASELINE: 0.70900\n",
      "Accuracy: 0.70080, threshold: 25.0%\n",
      "Accuracy: 0.70640, threshold: 12.5%\n",
      "Accuracy: 0.70860, threshold: 18.75%\n",
      "Accuracy: 0.70760, threshold: 15.625%\n",
      "Accuracy: 0.70820, threshold: 17.1875%\n",
      "Threshold: 10.00000 (15.625%)\n",
      "BASELINE: 0.70820\n",
      "Accuracy: 0.70740, threshold: 75.0%\n",
      "Accuracy: 0.70200, threshold: 62.5%\n",
      "Accuracy: 0.70620, threshold: 56.25%\n",
      "Accuracy: 0.70760, threshold: 59.375%\n",
      "Accuracy: 0.70940, threshold: 60.9375%\n",
      "Threshold: 6.29688 (59.375%)\n",
      "BASELINE: 0.70940\n",
      "Accuracy: 0.70480, threshold: 25.0%\n",
      "Accuracy: 0.70460, threshold: 12.5%\n",
      "Accuracy: 0.70820, threshold: 6.25%\n",
      "Accuracy: 0.70920, threshold: 9.375%\n",
      "Accuracy: 0.70880, threshold: 10.9375%\n",
      "Threshold: 0.00819 (9.375%)\n",
      "BASELINE: 0.70880\n",
      "Accuracy: 0.71060, threshold: 75.0%\n",
      "Accuracy: 0.70940, threshold: 62.5%\n",
      "Accuracy: 0.71260, threshold: 68.75%\n",
      "Accuracy: 0.70960, threshold: 65.625%\n",
      "Accuracy: 0.71120, threshold: 64.0625%\n",
      "Threshold: 0.12195 (62.5%)\n",
      "BASELINE: 0.71260\n",
      "Accuracy: 0.70200, threshold: 25.0%\n",
      "Accuracy: 0.70960, threshold: 12.5%\n",
      "Accuracy: 0.70840, threshold: 6.25%\n",
      "Accuracy: 0.70840, threshold: 3.125%\n",
      "Accuracy: 0.71100, threshold: 1.5625%\n",
      "Threshold: 0.00000 (0%)\n",
      "BASELINE: 0.71260\n",
      "Accuracy: 0.70380, threshold: 25.0%\n",
      "Accuracy: 0.71100, threshold: 12.5%\n",
      "Accuracy: 0.71220, threshold: 18.75%\n",
      "Accuracy: 0.71120, threshold: 15.625%\n",
      "Accuracy: 0.71160, threshold: 17.1875%\n",
      "Threshold: 0.25195 (15.625%)\n",
      "BASELINE: 0.71160\n",
      "Accuracy: 0.70720, threshold: 25.0%\n",
      "Accuracy: 0.70820, threshold: 12.5%\n",
      "Accuracy: 0.71100, threshold: 18.75%\n",
      "Accuracy: 0.71100, threshold: 21.875%\n",
      "Accuracy: 0.71020, threshold: 20.3125%\n",
      "Threshold: 0.04657 (18.75%)\n",
      "BASELINE: 0.71100\n",
      "Accuracy: 0.71240, threshold: 75.0%\n",
      "Accuracy: 0.70760, threshold: 62.5%\n",
      "Accuracy: 0.70980, threshold: 56.25%\n",
      "Accuracy: 0.71260, threshold: 59.375%\n",
      "Accuracy: 0.71120, threshold: 57.8125%\n",
      "Threshold: 0.19055 (56.25%)\n",
      "BASELINE: 0.71260\n",
      "Accuracy: 0.70620, threshold: 25.0%\n",
      "Accuracy: 0.70860, threshold: 12.5%\n",
      "Accuracy: 0.70840, threshold: 6.25%\n",
      "Accuracy: 0.71040, threshold: 3.125%\n"
     ]
    },
    {
     "name": "stdout",
     "output_type": "stream",
     "text": [
      "Accuracy: 0.71200, threshold: 4.6875%\n",
      "Threshold: 6.71875 (3.125%)\n",
      "BASELINE: 0.71200\n",
      "Accuracy: 0.70700, threshold: 25.0%\n",
      "Accuracy: 0.71240, threshold: 37.5%\n",
      "Accuracy: 0.70980, threshold: 31.25%\n",
      "Accuracy: 0.71140, threshold: 28.125%\n",
      "Accuracy: 0.71240, threshold: 29.6875%\n",
      "Threshold: 1.17676 (28.125%)\n",
      "BASELINE: 0.71240\n",
      "Accuracy: 0.70300, threshold: 25.0%\n",
      "Accuracy: 0.71020, threshold: 12.5%\n",
      "Accuracy: 0.71240, threshold: 18.75%\n",
      "Accuracy: 0.70940, threshold: 15.625%\n",
      "Accuracy: 0.71040, threshold: 14.0625%\n",
      "Threshold: 0.00342 (12.5%)\n",
      "BASELINE: 0.71240\n",
      "Accuracy: 0.71160, threshold: 75.0%\n",
      "Accuracy: 0.71020, threshold: 62.5%\n",
      "Accuracy: 0.71220, threshold: 68.75%\n",
      "Accuracy: 0.71000, threshold: 65.625%\n",
      "Accuracy: 0.71220, threshold: 67.1875%\n",
      "Threshold: 0.06604 (65.625%)\n",
      "BASELINE: 0.71220\n",
      "Accuracy: 0.70700, threshold: 25.0%\n",
      "Accuracy: 0.71020, threshold: 12.5%\n",
      "Accuracy: 0.71040, threshold: 6.25%\n",
      "Accuracy: 0.71180, threshold: 9.375%\n",
      "Accuracy: 0.71200, threshold: 10.9375%\n",
      "Threshold: 10.35156 (9.375%)\n",
      "BASELINE: 0.71200\n",
      "Accuracy: 0.70820, threshold: 25.0%\n",
      "Accuracy: 0.71080, threshold: 12.5%\n",
      "Accuracy: 0.71240, threshold: 18.75%\n",
      "Accuracy: 0.71220, threshold: 21.875%\n",
      "Accuracy: 0.71160, threshold: 23.4375%\n",
      "Threshold: 0.77100 (21.875%)\n",
      "BASELINE: 0.71160\n",
      "Accuracy: 0.70520, threshold: 25.0%\n",
      "Accuracy: 0.70800, threshold: 12.5%\n",
      "Accuracy: 0.71100, threshold: 18.75%\n",
      "Accuracy: 0.70740, threshold: 15.625%\n",
      "Accuracy: 0.70820, threshold: 14.0625%\n",
      "Threshold: 0.01094 (12.5%)\n",
      "BASELINE: 0.71100\n",
      "Accuracy: 0.70960, threshold: 25.0%\n",
      "Accuracy: 0.70940, threshold: 12.5%\n",
      "Accuracy: 0.71060, threshold: 18.75%\n",
      "Accuracy: 0.71140, threshold: 21.875%\n",
      "Accuracy: 0.71040, threshold: 23.4375%\n",
      "Threshold: 0.03903 (21.875%)\n",
      "BASELINE: 0.71040\n",
      "Accuracy: 0.45440, threshold: 25.0%\n",
      "Accuracy: 0.66660, threshold: 12.5%\n",
      "Accuracy: 0.69720, threshold: 6.25%\n",
      "Accuracy: 0.70660, threshold: 3.125%\n",
      "Accuracy: 0.70780, threshold: 1.5625%\n",
      "Threshold: 0.00000 (0%)\n",
      "BASELINE: 0.71040\n",
      "Accuracy: 0.71180, threshold: 75.0%\n",
      "Accuracy: 0.70340, threshold: 62.5%\n",
      "Accuracy: 0.71100, threshold: 68.75%\n",
      "Accuracy: 0.70780, threshold: 65.625%\n",
      "Accuracy: 0.71160, threshold: 67.1875%\n",
      "Threshold: 3.81250 (65.625%)\n",
      "BASELINE: 0.71160\n",
      "Accuracy: 0.58340, threshold: 25.0%\n",
      "Accuracy: 0.67740, threshold: 12.5%\n",
      "Accuracy: 0.70980, threshold: 6.25%\n",
      "Accuracy: 0.71120, threshold: 9.375%\n",
      "Accuracy: 0.71040, threshold: 7.8125%\n",
      "Threshold: 0.01723 (6.25%)\n",
      "BASELINE: 0.71120\n",
      "Accuracy: 0.61280, threshold: 25.0%\n",
      "Accuracy: 0.68200, threshold: 12.5%\n",
      "Accuracy: 0.69820, threshold: 6.25%\n",
      "Accuracy: 0.70520, threshold: 3.125%\n",
      "Accuracy: 0.70960, threshold: 1.5625%\n",
      "Threshold: 0.00000 (0%)\n",
      "BASELINE: 0.71120\n",
      "Accuracy: 0.69600, threshold: 25.0%\n",
      "Accuracy: 0.70200, threshold: 12.5%\n",
      "Accuracy: 0.70800, threshold: 6.25%\n",
      "Accuracy: 0.71080, threshold: 9.375%\n",
      "Accuracy: 0.70900, threshold: 7.8125%\n",
      "Threshold: 7.14453 (6.25%)\n",
      "BASELINE: 0.71080\n",
      "Accuracy: 0.70900, threshold: 25.0%\n",
      "Accuracy: 0.71200, threshold: 37.5%\n",
      "Accuracy: 0.70840, threshold: 31.25%\n",
      "Accuracy: 0.70960, threshold: 28.125%\n",
      "Accuracy: 0.71080, threshold: 26.5625%\n",
      "Threshold: 0.97754 (25.0%)\n",
      "BASELINE: 0.71200\n",
      "Accuracy: 0.70480, threshold: 25.0%\n",
      "Accuracy: 0.70580, threshold: 12.5%\n",
      "Accuracy: 0.70940, threshold: 6.25%\n",
      "Accuracy: 0.71160, threshold: 9.375%\n",
      "Accuracy: 0.71080, threshold: 7.8125%\n",
      "Threshold: 0.01254 (6.25%)\n",
      "BASELINE: 0.71160\n",
      "Accuracy: 0.71060, threshold: 75.0%\n",
      "Accuracy: 0.70320, threshold: 62.5%\n",
      "Accuracy: 0.70460, threshold: 56.25%\n",
      "Accuracy: 0.70880, threshold: 53.125%\n",
      "Accuracy: 0.71100, threshold: 54.6875%\n",
      "Threshold: 0.21899 (53.125%)\n",
      "BASELINE: 0.71100\n",
      "Accuracy: 0.69340, threshold: 25.0%\n",
      "Accuracy: 0.70360, threshold: 12.5%\n",
      "Accuracy: 0.70940, threshold: 6.25%\n",
      "Accuracy: 0.70900, threshold: 3.125%\n",
      "Accuracy: 0.70940, threshold: 1.5625%\n",
      "Threshold: 0.00000 (0%)\n",
      "BASELINE: 0.71100\n",
      "Accuracy: 0.70620, threshold: 25.0%\n",
      "Accuracy: 0.70920, threshold: 12.5%\n",
      "Accuracy: 0.71060, threshold: 18.75%\n",
      "Accuracy: 0.70880, threshold: 15.625%\n",
      "Accuracy: 0.71000, threshold: 14.0625%\n",
      "Threshold: 1.37109 (12.5%)\n",
      "BASELINE: 0.71060\n",
      "Accuracy: 0.69860, threshold: 25.0%\n",
      "Accuracy: 0.70900, threshold: 12.5%\n",
      "Accuracy: 0.70780, threshold: 6.25%\n",
      "Accuracy: 0.70900, threshold: 3.125%\n",
      "Accuracy: 0.71080, threshold: 4.6875%\n",
      "Threshold: 0.00349 (3.125%)\n",
      "BASELINE: 0.71080\n",
      "Accuracy: 0.70320, threshold: 25.0%\n",
      "Accuracy: 0.70740, threshold: 12.5%\n",
      "Accuracy: 0.70880, threshold: 6.25%\n",
      "Accuracy: 0.70980, threshold: 9.375%\n",
      "Accuracy: 0.70840, threshold: 7.8125%\n",
      "Threshold: 0.09924 (6.25%)\n",
      "BASELINE: 0.70980\n",
      "Accuracy: 0.69620, threshold: 25.0%\n",
      "Accuracy: 0.70440, threshold: 12.5%\n",
      "Accuracy: 0.70840, threshold: 6.25%\n",
      "Accuracy: 0.70840, threshold: 3.125%\n",
      "Accuracy: 0.70980, threshold: 4.6875%\n",
      "Threshold: 7.17188 (3.125%)\n",
      "BASELINE: 0.70980\n",
      "Accuracy: 0.70920, threshold: 75.0%\n",
      "Accuracy: 0.71020, threshold: 87.5%\n",
      "Accuracy: 0.70440, threshold: 81.25%\n",
      "Accuracy: 0.70300, threshold: 78.125%\n",
      "Accuracy: 0.70680, threshold: 76.5625%\n",
      "Threshold: 5.17578 (75.0%)\n",
      "BASELINE: 0.71020\n",
      "Accuracy: 0.69640, threshold: 25.0%\n",
      "Accuracy: 0.70140, threshold: 12.5%\n",
      "Accuracy: 0.70500, threshold: 6.25%\n",
      "Accuracy: 0.70900, threshold: 3.125%\n",
      "Accuracy: 0.70880, threshold: 1.5625%\n",
      "Threshold: 0.00000 (0%)\n",
      "BASELINE: 0.71020\n",
      "Accuracy: 0.70840, threshold: 25.0%\n",
      "Accuracy: 0.70820, threshold: 12.5%\n",
      "Accuracy: 0.70900, threshold: 6.25%\n",
      "Accuracy: 0.70820, threshold: 3.125%\n",
      "Accuracy: 0.70860, threshold: 1.5625%\n",
      "Threshold: 0.00000 (0%)\n",
      "BASELINE: 0.71020\n",
      "Accuracy: 0.70280, threshold: 25.0%\n",
      "Accuracy: 0.70640, threshold: 12.5%\n",
      "Accuracy: 0.70680, threshold: 6.25%\n",
      "Accuracy: 0.70740, threshold: 3.125%\n",
      "Accuracy: 0.70760, threshold: 1.5625%\n",
      "Threshold: 0.00000 (0%)\n",
      "BASELINE: 0.71020\n",
      "Accuracy: 0.70500, threshold: 25.0%\n",
      "Accuracy: 0.70420, threshold: 12.5%\n",
      "Accuracy: 0.70640, threshold: 6.25%\n",
      "Accuracy: 0.70980, threshold: 9.375%\n",
      "Accuracy: 0.70740, threshold: 7.8125%\n",
      "Threshold: 2.03125 (6.25%)\n",
      "BASELINE: 0.70980\n",
      "Accuracy: 0.70560, threshold: 25.0%\n",
      "Accuracy: 0.71040, threshold: 37.5%\n",
      "Accuracy: 0.70460, threshold: 31.25%\n",
      "Accuracy: 0.70520, threshold: 28.125%\n",
      "Accuracy: 0.70720, threshold: 26.5625%\n",
      "Threshold: 0.08942 (25.0%)\n",
      "BASELINE: 0.71040\n",
      "Accuracy: 0.71100, threshold: 75.0%\n",
      "Accuracy: 0.70860, threshold: 62.5%\n",
      "Accuracy: 0.70900, threshold: 56.25%\n",
      "Accuracy: 0.71060, threshold: 59.375%\n",
      "Accuracy: 0.71020, threshold: 60.9375%\n",
      "Threshold: 0.12744 (59.375%)\n",
      "BASELINE: 0.71020\n",
      "Accuracy: 0.69700, threshold: 25.0%\n",
      "Accuracy: 0.70440, threshold: 12.5%\n",
      "Accuracy: 0.71000, threshold: 18.75%\n",
      "Accuracy: 0.70940, threshold: 21.875%\n",
      "Accuracy: 0.70580, threshold: 20.3125%\n",
      "Threshold: 13.66406 (18.75%)\n",
      "BASELINE: 0.70940\n",
      "Accuracy: 0.69620, threshold: 25.0%\n",
      "Accuracy: 0.70080, threshold: 12.5%\n",
      "Accuracy: 0.70580, threshold: 6.25%\n",
      "Accuracy: 0.70800, threshold: 3.125%\n",
      "Accuracy: 0.70840, threshold: 4.6875%\n",
      "Threshold: 1.12598 (3.125%)\n",
      "BASELINE: 0.70840\n",
      "Accuracy: 0.69220, threshold: 25.0%\n",
      "Accuracy: 0.69720, threshold: 12.5%\n",
      "Accuracy: 0.70460, threshold: 6.25%\n",
      "Accuracy: 0.70700, threshold: 3.125%\n",
      "Accuracy: 0.70820, threshold: 4.6875%\n",
      "Threshold: 0.00232 (3.125%)\n",
      "BASELINE: 0.70820\n",
      "Accuracy: 0.70080, threshold: 25.0%\n",
      "Accuracy: 0.70600, threshold: 12.5%\n",
      "Accuracy: 0.70740, threshold: 18.75%\n",
      "Accuracy: 0.70620, threshold: 15.625%\n",
      "Accuracy: 0.70580, threshold: 14.0625%\n",
      "Threshold: 0.06311 (12.5%)\n",
      "BASELINE: 0.70740\n",
      "Accuracy: 0.70000, threshold: 25.0%\n"
     ]
    }
   ],
   "source": [
    "for i in tqdm(conv_idx):\n",
    "    m = tf.keras.Model(inputs=base_model.input, outputs=base_model.layers[i].output)\n",
    "    activations = get_activations(m)\n",
    "    stds = tf.math.reduce_mean(activations**2, 0)\n",
    "    means = tf.math.reduce_mean(activations, 0)\n",
    "    t_min, t_cur, t_max = 0, 50, 100\n",
    "    model.compile(loss=\"categorical_crossentropy\", metrics=[\"accuracy\"])\n",
    "    base_accuracy = model.evaluate(test_ds, verbose=0)[1]\n",
    "    min_cutoff = 0.0\n",
    "    print(f\"BASELINE: {base_accuracy:.5f}\")\n",
    "    while t_max - t_min > 100 / 2**5:\n",
    "        cutoff = tfp.stats.percentile(stds, t_cur)\n",
    "        set_const(base_model.layers[i], stds < cutoff, means)\n",
    "        model.compile(loss=\"categorical_crossentropy\", metrics=[\"accuracy\"])\n",
    "        out_accuracy = model.evaluate(test_ds, verbose=0)[1]\n",
    "        if out_accuracy >= base_accuracy - 1e-3:\n",
    "            t_min = t_cur\n",
    "            min_cutoff = cutoff\n",
    "            if out_accuracy > base_accuracy:\n",
    "                base_accuracy = out_accuracy\n",
    "        else:\n",
    "            t_max = t_cur\n",
    "        t_cur = (t_max - t_min) / 2 + t_min\n",
    "        print(f\"Accuracy: {out_accuracy:.5f}, threshold: {t_cur}%\")\n",
    "    print(f\"Threshold: {min_cutoff:.5f} ({t_min}%)\")\n",
    "    set_const(base_model.layers[i], stds < min_cutoff, means)"
   ]
  },
  {
   "cell_type": "code",
   "execution_count": null,
   "id": "d9f5ba8d",
   "metadata": {},
   "outputs": [],
   "source": [
    "for i in tqdm(conv_idx):\n",
    "    m = tf.keras.Model(inputs=base_model.input, outputs=base_model.layers[i].output)\n",
    "    activations = get_activations(m)\n",
    "    stds = tf.math.reduce_std(activations, 0)\n",
    "    means = tf.math.reduce_mean(activations, 0)\n",
    "    t_min, t_cur, t_max = 0, 50, 100\n",
    "    model.compile(loss=\"categorical_crossentropy\", metrics=[\"accuracy\"])\n",
    "    base_accuracy = model.evaluate(test_ds, verbose=0)[1]\n",
    "    min_cutoff = 0.0\n",
    "    print(f\"BASELINE: {base_accuracy:.5f}\")\n",
    "    while t_max - t_min > 100 / 2**5:\n",
    "        cutoff = tfp.stats.percentile(stds, t_cur)\n",
    "        set_const(base_model.layers[i], stds < cutoff, means)\n",
    "        model.compile(loss=\"categorical_crossentropy\", metrics=[\"accuracy\"])\n",
    "        out_accuracy = model.evaluate(test_ds, verbose=0)[1]\n",
    "        if out_accuracy >= base_accuracy - 1e-3:\n",
    "            t_min = t_cur\n",
    "            min_cutoff = cutoff\n",
    "            if out_accuracy > base_accuracy:\n",
    "                base_accuracy = out_accuracy\n",
    "        else:\n",
    "            t_max = t_cur\n",
    "        t_cur = (t_max - t_min) / 2 + t_min\n",
    "        print(f\"Accuracy: {out_accuracy:.5f}, threshold: {t_cur}%\")\n",
    "    print(f\"Threshold: {min_cutoff:.5f} ({t_min}%)\")\n",
    "    set_const(base_model.layers[i], stds < min_cutoff, means)"
   ]
  },
  {
   "cell_type": "code",
   "execution_count": null,
   "id": "7414d69a",
   "metadata": {},
   "outputs": [],
   "source": []
  },
  {
   "cell_type": "code",
   "execution_count": null,
   "id": "9483704f",
   "metadata": {},
   "outputs": [],
   "source": []
  }
 ],
 "metadata": {
  "kernelspec": {
   "display_name": "Python 3 (ipykernel)",
   "language": "python",
   "name": "python3"
  },
  "language_info": {
   "codemirror_mode": {
    "name": "ipython",
    "version": 3
   },
   "file_extension": ".py",
   "mimetype": "text/x-python",
   "name": "python",
   "nbconvert_exporter": "python",
   "pygments_lexer": "ipython3",
   "version": "3.10.9"
  }
 },
 "nbformat": 4,
 "nbformat_minor": 5
}
